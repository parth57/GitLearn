{
 "cells": [
  {
   "cell_type": "code",
   "execution_count": 10,
   "id": "b4e05ce0",
   "metadata": {},
   "outputs": [],
   "source": [
    "def Add(num1,num2):\n",
    "    print('Sum is', num1 + num2)"
   ]
  },
  {
   "cell_type": "code",
   "execution_count": 11,
   "id": "4c61e65f",
   "metadata": {},
   "outputs": [
    {
     "name": "stdout",
     "output_type": "stream",
     "text": [
      "Sum is 7\n"
     ]
    }
   ],
   "source": [
    "Add(5,2)"
   ]
  },
  {
   "cell_type": "code",
   "execution_count": null,
   "id": "dbedbfab",
   "metadata": {},
   "outputs": [],
   "source": []
  },
  {
   "cell_type": "code",
   "execution_count": null,
   "id": "e8003236",
   "metadata": {},
   "outputs": [],
   "source": []
  }
 ],
 "metadata": {
  "kernelspec": {
   "display_name": "Python 3 (ipykernel)",
   "language": "python",
   "name": "python3"
  },
  "language_info": {
   "codemirror_mode": {
    "name": "ipython",
    "version": 3
   },
   "file_extension": ".py",
   "mimetype": "text/x-python",
   "name": "python",
   "nbconvert_exporter": "python",
   "pygments_lexer": "ipython3",
   "version": "3.9.13"
  }
 },
 "nbformat": 4,
 "nbformat_minor": 5
}
