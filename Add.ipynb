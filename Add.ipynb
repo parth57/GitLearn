{
 "cells": [
  {
   "cell_type": "code",
   "execution_count": 8,
   "id": "3a341324",
   "metadata": {},
   "outputs": [],
   "source": [
    "def Add(num1,num2):\n",
    "    print('Sum is', num1+num2)"
   ]
  },
  {
   "cell_type": "code",
   "execution_count": 9,
   "id": "70c17219",
   "metadata": {},
   "outputs": [
    {
     "data": {
      "text/plain": [
       "('Sum is:', 7)"
      ]
     },
     "execution_count": 9,
     "metadata": {},
     "output_type": "execute_result"
    }
   ],
   "source": [
    "Add(5,2)"
   ]
  },
  {
   "cell_type": "code",
   "execution_count": null,
   "id": "67803083",
   "metadata": {},
   "outputs": [],
   "source": []
  },
  {
   "cell_type": "code",
   "execution_count": null,
   "id": "0f98c32e",
   "metadata": {},
   "outputs": [],
   "source": []
  }
 ],
 "metadata": {
  "kernelspec": {
   "display_name": "Python 3 (ipykernel)",
   "language": "python",
   "name": "python3"
  },
  "language_info": {
   "codemirror_mode": {
    "name": "ipython",
    "version": 3
   },
   "file_extension": ".py",
   "mimetype": "text/x-python",
   "name": "python",
   "nbconvert_exporter": "python",
   "pygments_lexer": "ipython3",
   "version": "3.9.13"
  }
 },
 "nbformat": 4,
 "nbformat_minor": 5
}
